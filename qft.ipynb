{
 "cells": [
  {
   "cell_type": "code",
   "execution_count": null,
   "metadata": {},
   "outputs": [],
   "source": []
  },
  {
   "cell_type": "code",
   "execution_count": 5,
   "metadata": {},
   "outputs": [],
   "source": [
    "from qiskit import QuantumRegister, ClassicalRegister, QuantumCircuit\n",
    "import numpy as np"
   ]
  },
  {
   "cell_type": "code",
   "execution_count": 6,
   "metadata": {},
   "outputs": [
    {
     "data": {
      "text/html": [
       "<pre style=\"word-wrap: normal;white-space: pre;background: #fff0;line-height: 1.1;font-family: &quot;Courier New&quot;,Courier,monospace\">                                                                          ┌───┐»\n",
       "q_0: ─────────────────────────────■─────────────────■─────────────■───────┤ H ├»\n",
       "                                  │                 │       ┌───┐ │P(π/2) └───┘»\n",
       "q_1: ───────────────■─────────────┼────────■────────┼───────┤ H ├─■─────────X──»\n",
       "                    │       ┌───┐ │        │P(π/2)  │P(π/4) └───┘           │  »\n",
       "q_2: ──────■────────┼───────┤ H ├─┼────────■────────■───────────────────────X──»\n",
       "     ┌───┐ │P(π/2)  │P(π/4) └───┘ │P(π/8)                                      »\n",
       "q_3: ┤ H ├─■────────■─────────────■────────────────────────────────────────────»\n",
       "     └───┘                                                                     »\n",
       "«        \n",
       "«q_0: ─X─\n",
       "«      │ \n",
       "«q_1: ─┼─\n",
       "«      │ \n",
       "«q_2: ─┼─\n",
       "«      │ \n",
       "«q_3: ─X─\n",
       "«        </pre>"
      ],
      "text/plain": [
       "                                                                          ┌───┐»\n",
       "q_0: ─────────────────────────────■─────────────────■─────────────■───────┤ H ├»\n",
       "                                  │                 │       ┌───┐ │P(π/2) └───┘»\n",
       "q_1: ───────────────■─────────────┼────────■────────┼───────┤ H ├─■─────────X──»\n",
       "                    │       ┌───┐ │        │P(π/2)  │P(π/4) └───┘           │  »\n",
       "q_2: ──────■────────┼───────┤ H ├─┼────────■────────■───────────────────────X──»\n",
       "     ┌───┐ │P(π/2)  │P(π/4) └───┘ │P(π/8)                                      »\n",
       "q_3: ┤ H ├─■────────■─────────────■────────────────────────────────────────────»\n",
       "     └───┘                                                                     »\n",
       "«        \n",
       "«q_0: ─X─\n",
       "«      │ \n",
       "«q_1: ─┼─\n",
       "«      │ \n",
       "«q_2: ─┼─\n",
       "«      │ \n",
       "«q_3: ─X─\n",
       "«        "
      ]
     },
     "execution_count": 6,
     "metadata": {},
     "output_type": "execute_result"
    }
   ],
   "source": [
    "n=4\n",
    "# Create a quantum circuit.\n",
    "qc = QuantumCircuit(n)\n",
    "# Iterate through each target qubit from (n-1) to 0.\n",
    "for target in range(n-1,-1,-1):\n",
    " qc.h(target)\n",
    "# Iterate through the control qubits from (target-1) to 0.\n",
    " for control in range(target-1,-1,-1):\n",
    "# Calculate \"r,\" the rotation by 2*pi/2**r.\n",
    "  r = target - control + 1\n",
    "# Apply the controlled phase/rotation.\n",
    "  qc.cp(2*np.pi/2**r, control, target)\n",
    "\n",
    "\n",
    "# Swap qubits.\n",
    "for qubit in range(n//2):\n",
    "  qc.swap(qubit, n - qubit - 1)\n",
    "# Draw the circuit.\n",
    "qc.draw()"
   ]
  },
  {
   "cell_type": "code",
   "execution_count": null,
   "metadata": {},
   "outputs": [],
   "source": []
  },
  {
   "cell_type": "code",
   "execution_count": null,
   "metadata": {},
   "outputs": [],
   "source": []
  }
 ],
 "metadata": {
  "kernelspec": {
   "display_name": "Python 3",
   "language": "python",
   "name": "python3"
  },
  "language_info": {
   "codemirror_mode": {
    "name": "ipython",
    "version": 3
   },
   "file_extension": ".py",
   "mimetype": "text/x-python",
   "name": "python",
   "nbconvert_exporter": "python",
   "pygments_lexer": "ipython3",
   "version": "3.10.6"
  }
 },
 "nbformat": 4,
 "nbformat_minor": 2
}
